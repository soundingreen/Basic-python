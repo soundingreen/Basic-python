{
 "cells": [
  {
   "cell_type": "code",
   "execution_count": 4,
   "metadata": {},
   "outputs": [],
   "source": [
    "import numpy as np"
   ]
  },
  {
   "cell_type": "code",
   "execution_count": 5,
   "metadata": {},
   "outputs": [],
   "source": [
    "times=np.linspace(-3,3,10000)\n",
    "signal=np.sqrt(9-(times**2))\n",
    "#signal=np.sin(times)"
   ]
  },
  {
   "cell_type": "code",
   "execution_count": 6,
   "metadata": {},
   "outputs": [],
   "source": [
    "def itrapecio(times,señal):\n",
    "    a=np.min(times) # este son los valores de a para sacar la integral debajo de toda la señal\n",
    "    b=np.max(times) # este son los valores de b para sacar la integral debajo de toda la señal\n",
    "    n=len(times)\n",
    "    sum=0\n",
    "    for i in range(1,n-1):\n",
    "        sum=sum+señal[i]\n",
    "    I=(((b-a))*(señal[0]+2*sum+señal[-1]))/(2*n)\n",
    "    return I"
   ]
  },
  {
   "cell_type": "code",
   "execution_count": 7,
   "metadata": {},
   "outputs": [],
   "source": [
    " def itrapecio(self): # método para calcular la integral con el métódo del trapecio\n",
    "        times=self.tiempo\n",
    "        signal=self.señal \n",
    "        a=self.a # este son los valores de a para sacar la integral debajo de toda la señal\n",
    "        b=self.b # este son los valores de b para sacar la integral debajo de toda la señal\n",
    "        dom=len(times)# el número de elmentos que tienen mis tiempos y la señal\n",
    "        i_inicial=int(np.where(times==a)[0])#indice que corresponde al limite a\n",
    "        i_final=int(np.where(times==b)[0]) #indice que corresponde al limite b\n",
    "        n=dom-(np.abs(i_inicial)+np.abs(dom-i_final)) # n es igual a mi número de tiempos\n",
    "        sum=0# inicializamos la suma en cero\n",
    "        for i in range(1,n):#sumatoria entre 1 y n-1\n",
    "            sum=sum+signal[i]# sumatoria de valores \n",
    "        I=(((b-a))*(signal[i_inicial]+2*sum+signal[i_final]))/(2*n)#calculamos la integral\n",
    "        return I # devuelve el valor aproximado de la integral"
   ]
  },
  {
   "cell_type": "code",
   "execution_count": 8,
   "metadata": {},
   "outputs": [
    {
     "ename": "TypeError",
     "evalue": "itrapecio() takes 1 positional argument but 2 were given",
     "output_type": "error",
     "traceback": [
      "\u001b[1;31m---------------------------------------------------------------------------\u001b[0m",
      "\u001b[1;31mTypeError\u001b[0m                                 Traceback (most recent call last)",
      "\u001b[1;32m<ipython-input-8-dfa9f041c1e6>\u001b[0m in \u001b[0;36m<module>\u001b[1;34m\u001b[0m\n\u001b[1;32m----> 1\u001b[1;33m \u001b[0mitrapecio\u001b[0m\u001b[1;33m(\u001b[0m\u001b[0mtimes\u001b[0m\u001b[1;33m,\u001b[0m\u001b[0msignal\u001b[0m\u001b[1;33m)\u001b[0m\u001b[1;33m\u001b[0m\u001b[1;33m\u001b[0m\u001b[0m\n\u001b[0m",
      "\u001b[1;31mTypeError\u001b[0m: itrapecio() takes 1 positional argument but 2 were given"
     ]
    }
   ],
   "source": [
    "itrapecio(times,signal)"
   ]
  },
  {
   "cell_type": "code",
   "execution_count": 123,
   "metadata": {},
   "outputs": [],
   "source": [
    "class CalDifNum():\n",
    "    \"\"\"\n",
    "    Esta clase...\n",
    "    \"\"\"\n",
    "    def __init__(self, señal,tiempo,a,b):\n",
    "        self.señal=señal# atributo señal\n",
    "        self.tiempo=tiempo #atributo tiempo\n",
    "        self.a=a# limite inferior de integración\n",
    "        self.b=b# limite superior de integración\n",
    "    def itrapecio(self): # método para calcular la integral con el métódo del trapecio\n",
    "        times=self.tiempo \n",
    "        signal=self.señal \n",
    "        a=self.a # este son los valores de a para sacar la integral debajo de toda la señal\n",
    "        b=self.b # este son los valores de b para sacar la integral debajo de toda la señal\n",
    "        dom=len(times)# el número de elmentos que tienen mis tiempos y la señal\n",
    "        i_inicial=int(np.where(times==a)[0])#indice que corresponde al limite a\n",
    "        i_final=int(np.where(times==b)[0]) #indice que corresponde al limite b\n",
    "        n=dom-(np.abs(i_inicial)+np.abs(dom-i_final)) # n es igual a mi número de tiempos\n",
    "        suma=np.sum(signal[1:n])#sumatoria de valores entre los indices 1 y n\n",
    "        I=(((b-a))*(signal[i_inicial]+2*suma+signal[i_final]))/(2*n)#calculamos la integral\n",
    "        return I\n",
    "    def simpson(self): # método para calcular la integral con el métódo del trapecio\n",
    "        times=self.tiempo\n",
    "        signal=self.señal \n",
    "        a=self.a # este son los valores de a para sacar la integral debajo de toda la señal\n",
    "        b=self.b # este son los valores de b para sacar la integral debajo de toda la señal\n",
    "        dom=len(times)# el número de elmentos que tienen mis tiempos y la señal\n",
    "        i_inicial=int(np.where(times==a)[0])#indice que corresponde al limite a\n",
    "        i_final=int(np.where(times==b)[0]) #indice que corresponde al limite b\n",
    "        n=dom-(np.abs(i_inicial)+np.abs(dom-i_final)) # n es igual a mi número de tiempos\n",
    "        sum1=np.sum(signal[1:-1:2])\n",
    "        sum2=np.sum(signal[2:-1:2])\n",
    "        I=(((b-a)/(n))*(signal[i_inicial]+4*sum1+2*sum2+signal[i_final]))/(3)#calculamos la integral\n",
    "        return I # devuelve el valor aproximado de la integral\n",
    "    def montecarlo(self):# metodo para cálcular la integral con el método de montecarlo\n",
    "        times=self.tiempo\n",
    "        signal=self.señal\n",
    "        a=self.a # este son los valores de a para sacar la integral debajo de toda la señal\n",
    "        b=self.b # este son los valores de b para sacar la integral debajo de toda la señal\n",
    "        dom=len(times)# el número total de elmentos que tienen mis tiempos y la señal\n",
    "        i_inicial=int(np.where(times==a)[0])#indice que corresponde al limite a\n",
    "        i_final=int(np.where(times==b)[0]) #indice que corresponde al limite b\n",
    "        n=dom-(np.abs(i_inicial)+np.abs(dom-i_final)) # n es igual a mi número de tiempos\n",
    "        maxy=np.max(signal[i_inicial:i_final])\n",
    "        ejex=(np.random.rand(n))*(b-a)\n",
    "        ejey=np.random.rand(n)*maxy\n",
    "        dentro=np.sum(ejey<=signal[i_inicial:i_final]) # si ejey<=signal[i_inicial:i_final] se cumple cumple que el par coordenado está dentro del area si no \n",
    "        rectangulo=(b-a)*maxy #area donde genere puntos aleatorios\n",
    "        area=rectangulo*(dentro/n)\n",
    "        return area\n",
    "        "
   ]
  },
  {
   "cell_type": "code",
   "execution_count": null,
   "metadata": {},
   "outputs": [],
   "source": []
  },
  {
   "cell_type": "code",
   "execution_count": 124,
   "metadata": {},
   "outputs": [
    {
     "name": "stdout",
     "output_type": "stream",
     "text": [
      "mis tiempos son [-3.    -2.999 -2.998 ...  2.998  2.999  3.   ]\n",
      "area del semicirculo 14.137166941154069\n",
      "area calculada con el algoritmo del trapecio 14.137134735887587\n"
     ]
    }
   ],
   "source": [
    "times=np.arange(-3000,3001,1)*0.001 # dominio/tiempo\n",
    "print('mis tiempos son',times)\n",
    "signal=np.sqrt(9-(times**2)) # esta señal es un semicirculo\n",
    "#signal=np.sin(times)\n",
    "print('area del semicirculo',9*np.pi/2)# el area debajo de está curva es \n",
    "p=CalDifNum(signal,times,-3,3)# usando la clase CalDifNum\n",
    "print('area calculada con el algoritmo del trapecio',p.itrapecio())#aproximando la integral mediante"
   ]
  },
  {
   "cell_type": "code",
   "execution_count": 125,
   "metadata": {},
   "outputs": [
    {
     "name": "stdout",
     "output_type": "stream",
     "text": [
      "area calculada con el algoritmo de simpson 14.137154363905003\n"
     ]
    }
   ],
   "source": [
    "print('area calculada con el algoritmo de simpson',p.simpson())#aproximando la integral mediante"
   ]
  },
  {
   "cell_type": "code",
   "execution_count": 126,
   "metadata": {},
   "outputs": [
    {
     "data": {
      "text/plain": [
       "14.163"
      ]
     },
     "execution_count": 126,
     "metadata": {},
     "output_type": "execute_result"
    }
   ],
   "source": [
    "p.montecarlo()"
   ]
  },
  {
   "cell_type": "code",
   "execution_count": null,
   "metadata": {},
   "outputs": [],
   "source": [
    "i=np.array([1,2,3,4,5])\n",
    "f=np.array([2,3,4,5,6])\n",
    "f-i"
   ]
  },
  {
   "cell_type": "code",
   "execution_count": 3,
   "metadata": {},
   "outputs": [
    {
     "ename": "NameError",
     "evalue": "name 'np' is not defined",
     "output_type": "error",
     "traceback": [
      "\u001b[1;31m---------------------------------------------------------------------------\u001b[0m",
      "\u001b[1;31mNameError\u001b[0m                                 Traceback (most recent call last)",
      "\u001b[1;32m<ipython-input-3-bcf393cf377d>\u001b[0m in \u001b[0;36m<module>\u001b[1;34m\u001b[0m\n\u001b[1;32m----> 1\u001b[1;33m \u001b[0mi\u001b[0m\u001b[1;33m=\u001b[0m\u001b[0mnp\u001b[0m\u001b[1;33m.\u001b[0m\u001b[0marray\u001b[0m\u001b[1;33m(\u001b[0m\u001b[1;33m[\u001b[0m\u001b[1;36m1\u001b[0m\u001b[1;33m,\u001b[0m\u001b[1;36m2\u001b[0m\u001b[1;33m,\u001b[0m\u001b[1;36m3\u001b[0m\u001b[1;33m,\u001b[0m\u001b[1;36m4\u001b[0m\u001b[1;33m,\u001b[0m\u001b[1;36m5\u001b[0m\u001b[1;33m,\u001b[0m\u001b[1;36m6\u001b[0m\u001b[1;33m]\u001b[0m\u001b[1;33m)\u001b[0m\u001b[1;33m\u001b[0m\u001b[1;33m\u001b[0m\u001b[0m\n\u001b[0m\u001b[0;32m      2\u001b[0m \u001b[0mi_f\u001b[0m\u001b[1;33m=\u001b[0m\u001b[0mi\u001b[0m\u001b[1;33m[\u001b[0m\u001b[1;36m1\u001b[0m\u001b[1;33m:\u001b[0m\u001b[1;33m]\u001b[0m\u001b[1;33m\u001b[0m\u001b[1;33m\u001b[0m\u001b[0m\n\u001b[0;32m      3\u001b[0m \u001b[0mi_i\u001b[0m\u001b[1;33m=\u001b[0m\u001b[0mi\u001b[0m\u001b[1;33m[\u001b[0m\u001b[1;36m0\u001b[0m\u001b[1;33m:\u001b[0m\u001b[1;33m-\u001b[0m\u001b[1;36m1\u001b[0m\u001b[1;33m]\u001b[0m\u001b[1;33m\u001b[0m\u001b[1;33m\u001b[0m\u001b[0m\n\u001b[0;32m      4\u001b[0m \u001b[0mi_f\u001b[0m\u001b[1;33m-\u001b[0m\u001b[0mi_i\u001b[0m\u001b[1;33m\u001b[0m\u001b[1;33m\u001b[0m\u001b[0m\n",
      "\u001b[1;31mNameError\u001b[0m: name 'np' is not defined"
     ]
    }
   ],
   "source": [
    "i=np.array([1,2,3,4,5,6])\n",
    "i_f=i[1:]\n",
    "i_i=i[0:-1]\n",
    "i_f-i_i"
   ]
  },
  {
   "cell_type": "code",
   "execution_count": null,
   "metadata": {},
   "outputs": [],
   "source": []
  }
 ],
 "metadata": {
  "kernelspec": {
   "display_name": "Python 3",
   "language": "python",
   "name": "python3"
  },
  "language_info": {
   "codemirror_mode": {
    "name": "ipython",
    "version": 3
   },
   "file_extension": ".py",
   "mimetype": "text/x-python",
   "name": "python",
   "nbconvert_exporter": "python",
   "pygments_lexer": "ipython3",
   "version": "3.8.3"
  }
 },
 "nbformat": 4,
 "nbformat_minor": 4
}
