{
 "cells": [
  {
   "cell_type": "markdown",
   "metadata": {},
   "source": [
    "# Tarea 1 de programación Javier Francisco Castila Jiménez LNC UNAM\n",
    "\n",
    "1. (1 punto) Realice un programa que solicite al usuario el número de calicaciones\n",
    "a introducir, devuelva el promedio. Si el alumno tiene una calicación menor que 7\n",
    "indique: DESAPROBADO y si la calificación es igual a 7 o mayor indique: APRO-\n",
    "BADO. Además, el programa debe de indicar si algunos módulos están desaprobados\n",
    "y cuantos son.\n",
    "Ademas conteste las siguientes preguntas, recuerde argumentar cada una de sus res-\n",
    "puestas.\n",
    "(a) >¿Usará alguna estructura de repeticion? si su respuesta es afirmativa indique ¿cuál y por qué?\n",
    "## Si, voy a utilizar ciclos for, por que necesito iterar sobre los elementos de las lista \n",
    "(b) >¿Usará alguna estructura de control?\n",
    "## Si, if y else \n",
    "(c) >¿Usará alguna estructura de datos?\n",
    "## Si principalmente listas"
   ]
  },
  {
   "cell_type": "code",
   "execution_count": 1,
   "metadata": {},
   "outputs": [
    {
     "name": "stdout",
     "output_type": "stream",
     "text": [
      "¿cuantas calificaciones introducirás? 4\n",
      "calificacion: 6.8\n",
      "calificacion: 5\n",
      "calificacion: 9\n",
      "calificacion: 10\n",
      "las calificaciones introducidas son: [6.8, 5.0, 9.0, 10.0]\n",
      "su estado de aprobación por módulo es ['DESAPROBADO', 'DESAPROBADO', 'APROBADO', 'APROBADO']\n",
      "tiene 2 módulos DESAPROBADOS\n",
      "su promedio es:  7.7\n",
      "en el curso usted está APROBADO\n"
     ]
    }
   ],
   "source": [
    "ndcal=int(input(\"¿cuantas calificaciones introducirás? \")) #pido introduzca el numero de calificaciones a introducir y lo concierto a int\n",
    "calificaciones=[] # declaro listas vacias para calificaciones y estado de aprobación\n",
    "estado=[]\n",
    "\n",
    "for i in range (ndcal): # ciclo for para añadir elemento por elemento a la lista de calificaciones\n",
    "    calificaciones.append(float(input(\"calificacion: \"))) # cada elemento a introducido se convierte a float y se anexa a la lista\n",
    "print(\"las calificaciones introducidas son:\", calificaciones) #imprimo las calificaciones introducidas\n",
    "\n",
    "desaprobados=0 # declaro un contador de modulos desaprobados\n",
    "for i in calificaciones: # ciclo for para en base a las calificaciones introducidas crear una lista que diga si cada modulo esta aprobado o desaprobado\n",
    "    if i>=7: # comparación elemento por elemento\n",
    "        estado.append('APROBADO') # esta lista de estados solo tiene aprobado o desaprobado\n",
    "    else:\n",
    "        estado.append('DESAPROBADO')\n",
    "        desaprobados=desaprobados+1# contador de modulos desaprobados suma 1 cada vez que se añade un DESAPROBADO al la lista de estados\n",
    "print(\"su estado de aprobación por módulo es\", estado)\n",
    "print(\"tiene\", desaprobados, \"módulos DESAPROBADOS\")\n",
    "        \n",
    "    \n",
    "promedio=(sum(calificaciones))/ndcal # calculo del promedio\n",
    "print(\"su promedio es: \", promedio) # imprimir el promedio\n",
    "if promedio>=7: # if para determinar si el promedio global es aprobatorio\n",
    "    print(\"en el curso usted está APROBADO\") \n",
    "else:\n",
    "    print(\"en el curso usted está DESAPROBADO\")\n",
    "     "
   ]
  },
  {
   "cell_type": "markdown",
   "metadata": {},
   "source": [
    "2. (1 punto) Realice un programa que dado un número, introducido por el usuario,indique si el número es par o impar.\n",
    ">¿Qué herramientas de las que vimos durante la semana correspondiente a esta tarea utilizó? >¿por qué?\n",
    "## usé input, print y las estructuras de control if y else. porque print y input me permiten interactuar con el usuario y if me permite establecer una condicion en este caso que sea par (que su residuo al dividirlo por dos sea 0) y else me permite decir que hacer cuando no es par "
   ]
  },
  {
   "cell_type": "code",
   "execution_count": 3,
   "metadata": {},
   "outputs": [
    {
     "name": "stdout",
     "output_type": "stream",
     "text": [
      "introduzca un número entero: 3\n",
      "el número es impar\n"
     ]
    }
   ],
   "source": [
    "numero=int(input(\"introduzca un número entero: \")) # le pido al usuario que introduzca un número, lo convierto a int y lo almaceno en la variable numero\n",
    "if numero%2==0: # si el residuo de dividir un numero entre dos es cero entonces el número es par \n",
    "    print(\"el número es par\") # imprimo el numero es par si es par\n",
    "else:\n",
    "    print(\"el número es impar\") # si el residuo de dividir un numero entre dos NO es cero entonces es impar"
   ]
  },
  {
   "cell_type": "markdown",
   "metadata": {},
   "source": [
    "3. (1 punto) Realice un programa que dadas las longitudes de los lados de un triángulo\n",
    "devuelva su area y perimetro. Para calcular el area de un triángulo dados sus\n",
    "lados utilice la fórmula de Herón.\n",
    "\n",
    "(a) >¿Qué tipo de dato deben ser los lados del triangulo? \n",
    "\n",
    "## los lados del triángulo deben de ser float\n",
    "\n",
    "(b) >¿Qué tipo de variable debe ser el perimetro? \n",
    " ## float \n",
    ">¿el area? \n",
    " ## float\n",
    "\n",
    "(c) >¿Qué pasa en su programa si el usuario introduce una letra o un caracter no numérico?\n",
    "## marca un error porque no se puede convertir un string a float"
   ]
  },
  {
   "attachments": {
    "image.png": {
     "image/png": "[encoded data removed]"
    }
   },
   "cell_type": "markdown",
   "metadata": {},
   "source": [
    "![image.png](attachment:image.png)   # formula de herón"
   ]
  },
  {
   "cell_type": "code",
   "execution_count": 2,
   "metadata": {},
   "outputs": [
    {
     "name": "stdout",
     "output_type": "stream",
     "text": [
      "introduzca el area del lado 1: 3\n",
      "introduzca el area del lado 2: 4\n",
      "introduzca el area del lado 3: 5\n",
      "el perimetro es: 12.0\n",
      "el area del triangulo es:  6.0\n"
     ]
    }
   ],
   "source": [
    "a=float(input(\"introduzca el area del lado 1: \")) # pido al usuario que introduzca el tamaño del lado 1 lo convierto a float y lo almaceno en \n",
    "b=float(input(\"introduzca el area del lado 2: \")) # hago lo mismo que con el lado 1 para los lados 2 y 3\n",
    "c=float(input(\"introduzca el area del lado 3: \"))\n",
    "p=a+b+c #calculamos el perimetro \n",
    "s=p/2 # cálculo del semiperimetro\n",
    "print(\"el perimetro es:\", p) # imprimimos el perimetro\n",
    "area=(s*(s-a)*(s-b)*(s-c))**(1/2) # calculamos el area usando la formula de herón\n",
    "print(\"el area del triangulo es: \", area) "
   ]
  },
  {
   "cell_type": "markdown",
   "metadata": {},
   "source": [
    "4.(3 puntos) Corrija y complete el código que se ilustra a continuación. Este pretende indicar si un número es primo o no lo es.\n",
    "\n",
    "## a continuación se muestra el código en su versión sin corregir "
   ]
  },
  {
   "cell_type": "code",
   "execution_count": null,
   "metadata": {},
   "outputs": [],
   "source": [
    "# Codigo realizado por\n",
    "# Es te programa calcula el\n",
    "# 􀀀􀀀 Agosto 20􀀀􀀀\n",
    "indicador=FalSe\n",
    "if (numero<=1)\n",
    "indicador=True #El indicador cambia\n",
    "printt (No es primo )\n",
    "if not indicador :\n",
    "for i in range ( 2 , int (numero**0.5 + 1 ) ) :\n",
    "#Ciclo para . . .\n",
    "if (numero % i ==0 and i !=numero ) :\n",
    "print( El numero no es primo )\n",
    "indicador=True\n",
    "break #Es te comando . . . . que hace ?\n",
    "if not indicador:\n",
    "print f( El numero es primo )"
   ]
  },
  {
   "cell_type": "markdown",
   "metadata": {},
   "source": [
    "## a continuación se muestra el código en su versión corregida"
   ]
  },
  {
   "cell_type": "code",
   "execution_count": 31,
   "metadata": {},
   "outputs": [
    {
     "name": "stdout",
     "output_type": "stream",
     "text": [
      "introduzca un número: 997\n",
      "el número es primo\n"
     ]
    }
   ],
   "source": [
    "numero=int(input(\"introduzca un número: \"))# le pedimos al usuario que introduzca un numero\n",
    "indicador=False #variable booleana, si es False el numero es primo si es True el numero no es primo\n",
    "if numero<=1: # por la definición de primo ni uno ni cero ni numeros negativos son primos\n",
    "    indicador=True # si indicador true en este punto para el codigo\n",
    "    print(\"el número no es primo, recuerda que por definición solo números positivos mayores a uno pueden ser primos\") # imprimimos que el numero no es primo\n",
    "else: # este es el codigo que se ejecuta para el caso de cualquier numero mayor a 1\n",
    "    for i in range(2, numero): # ciclo for desde el dos hasta un número antes de numero (numero-1) porque los extremos no se cuentan\n",
    "        if (numero%i==0): # no es necesario poner and i!=numero porque i no está en el rango #\n",
    "            indicador=True #\n",
    "            break #break rompe el ciclo para que una vez que ya encontró un divisor (distinto de uno y el mismo) deje de iterar y ahorre recursos y sea más rápido\n",
    "    if indicador==False:# este if evalua con que valor quedo el indicador #este if está al mismo nivel que el for porque así se ejecuta la evaluación del if una vez terminado o roto el ciclo for\n",
    "        print(\"el número es primo\")  # porque indicador==False\n",
    "    else:\n",
    "        print(\"el número no es primo\") #porque indicador==False"
   ]
  },
  {
   "cell_type": "markdown",
   "metadata": {},
   "source": [
    "5. (4 puntos) Realice un programa que dados tres números enteros (tres variables) introducidos por el usuario devuelva/imprima los números ordenados de menor a mayor.\n",
    "Nota: El ejercicio requiere que haga uso de los operadores de comparación: <;<=;>\n",
    ";>= , etc."
   ]
  },
  {
   "cell_type": "code",
   "execution_count": 38,
   "metadata": {},
   "outputs": [
    {
     "name": "stdout",
     "output_type": "stream",
     "text": [
      "introduzca un número: 9\n",
      "introduzca un número: 56\n",
      "introduzca un número: 3\n",
      "los números ordenados de menor a mayor son: \n",
      "3\n",
      "9\n",
      "56\n"
     ]
    }
   ],
   "source": [
    "n1=int(input(\"introduzca un número: \")) # pido al usuario que introduzca un numero lo convierto a int y lo almaceno en n1 \n",
    "n2=int(input(\"introduzca un número: \")) # hago lo mismo que con el n1 para n2 y n3\n",
    "n3=int(input(\"introduzca un número: \"))\n",
    "\n",
    "# hay tres posibles casos iniciales: que n1 sea el número menor,que n2 sea el número menor o que n3 sea el número menor  \n",
    "if n1<=n2 and n1<=n3: #primero probamos la condicion necesaria para que n1 sea el número menor\n",
    "    menor=n1 \n",
    "    if n2<=n3: # si n1 es el menor, entonces ahora si n2 es menor que n3, entonces n2 es el medio y por default n3 es el mayor\n",
    "        medio=n2\n",
    "        mayor=n3\n",
    "    else: # sino se cumple la condición es porque el caso es al reves y n3 es el medio y n2 es el mayor\n",
    "        medio=n3\n",
    "        mayor=n2\n",
    "elif n2<=n3 and n2<=n4:#si n1 no es el menor #ahora probamos la condicion necesaria para que n2 sea el número menor\n",
    "    menor=n2\n",
    "    if n1<=n3:# si n2 es el menor, entonces si n1 es menor que n3, entonces n2 es el medio y por default n3 es el mayor \n",
    "        medio=n1\n",
    "        mayor=n3\n",
    "    else: # sino se cumple la condición es porque el caso es al reves y n3 es el medio y n1 es el mayor\n",
    "        medio=n3\n",
    "        mayor=n1\n",
    "else: #si ni n1 ni n2 son el menor entonces n3 tiene que ser el número menor\n",
    "    menor=n3\n",
    "    if n1<=n2: # si n3 es el menor, entonces si n1 es menor que n2, entonces n1 es el medio y por default n2 es el mayor \n",
    "        medio=n1\n",
    "        mayor=n2\n",
    "    else: # sino se cumple la condición es porque el caso es al reves y n2 es el medio y n1 es el mayor\n",
    "        medio=n2\n",
    "        mayor=n1\n",
    "        \n",
    "lordenada=[menor,medio,mayor] # creo una lista donde los elementos son los numeros ordenados de menor a mayor\n",
    "\n",
    "print(\"los números ordenados de menor a mayor son: \") #imprimo un anuncio de que se veran los numeros ordenados \n",
    "for elemento in lordenada: # uso un ciclo for para imprimir los elementos de la lista de elmentos ordenados uno por uno y en orden\n",
    "    print(elemento) # imprimo los elementos\n"
   ]
  },
  {
   "cell_type": "markdown",
   "metadata": {},
   "source": [
    "6. (1 punto) Realice un programa que indique si un par ordenado (x, y) está dentro de\n",
    "un círculo de radio 3. Considere la frontera como estar dentro del círculo"
   ]
  },
  {
   "cell_type": "code",
   "execution_count": 2,
   "metadata": {},
   "outputs": [
    {
     "name": "stdout",
     "output_type": "stream",
     "text": [
      "introduzca la coordenada x: 1\n",
      "introduzca la coordenada y: 2\n",
      "el par ordenado está dentro de un círculo de radio 3\n"
     ]
    }
   ],
   "source": [
    "x=float(input(\"introduzca la coordenada x: \")) #solicito al usuario introducir la coordenada x\n",
    "y=float(input(\"introduzca la coordenada y: \")) #solicito al usuario introducir la coordenada y\n",
    "r=(x**2+y**2)**0.5 # calculo el radio de un circulo a partir de las coordenadas (x,y)\n",
    "if r<=3: # evaluo si el radio de (x,y) es igual o menor a 3 \n",
    "    print(\"el par ordenado está dentro de un círculo de radio 3\") #imprimos esto si se cumplió la condición\n",
    "else:\n",
    "    print(\"el par ordenado NO está dentro de un círculo de radio 3\") # imprimos esto si no se cumplió la condición"
   ]
  },
  {
   "cell_type": "markdown",
   "metadata": {},
   "source": [
    "7. (2 puntos) Considere el archivo Ejercicio7 Tarea1.ipynb Realice el ejercicio que se\n",
    "encuentra en tal libreta de jupyter.\n",
    "# este ejercicio se realizo en la libreta correspondiente tambien adjunta en la carpeta de tarea"
   ]
  },
  {
   "cell_type": "markdown",
   "metadata": {},
   "source": [
    "8. (1 punto) Investigue la sintaxis de la estructura de datos llamada diccionario. Además\n",
    "proporcione dos ejemplos de su uso."
   ]
  },
  {
   "cell_type": "markdown",
   "metadata": {},
   "source": [
    "#Un diccionario es una manera de enlazar \"llaves(Keys)\" con sus \"valores(values)\"\n",
    "#la sintaxis del diccionario es \n",
    "dictionary = { \"key1\":\"value1\", \"key2\":\"value2\", \"key3\":\"value3\", ... }\n",
    "#donde Casi cualquier cosa se puede almacenar un \"value\" de un diccionario, incluso estructuras de datos complejas como listas \n",
    "#y otros diccionarios pueden funcionar como values pero no cualquier cosa se puede usar como \"Keys\".Esto es así porque las \n",
    "#\"keys\" tienen que ser objetos inmutables como por ejemplo str, int, float, bool\n",
    "#Para imprimir un value usando una Key basta el comando: print (dictionary[\"key1\"]) # imprime value1\n",
    "#para agregar un nuevo par key-value a un diccionario previamente creado podemos hacer dictionary[\"Newkey\"]= \"newvalue\"\n",
    "#para remover un elemento del diccionario via su key podemos podemos usar el comando del( dictionary [\"key\"] )"
   ]
  },
  {
   "cell_type": "code",
   "execution_count": 48,
   "metadata": {},
   "outputs": [
    {
     "name": "stdout",
     "output_type": "stream",
     "text": [
      "{'key1': 'value1', 'key2': 'value2', 'key3': 'value3'}\n",
      "value1\n",
      "{'key1': 'value1', 'key2': 'value2', 'key3': 'value3', 'Newkey': 'Newvalue'}\n",
      "{'key1': 'value1', 'key2': 'value2', 'Newkey': 'Newvalue'}\n"
     ]
    }
   ],
   "source": [
    "dictionary= {\"key1\":\"value1\", \"key2\":\"value2\", \"key3\":\"value3\"} #definimos un diccionario\n",
    "print(dictionary)\n",
    "print (dictionary[\"key1\"]) # imprime value1\n",
    "dictionary[\"Newkey\"]= \"Newvalue\" # agregar un nuevo par key-value a un diccionario previamente creado\n",
    "print(dictionary)\n",
    "del( dictionary [\"key3\"] )# remover un elemento del diccionario via su key\n",
    "print(dictionary)"
   ]
  },
  {
   "cell_type": "markdown",
   "metadata": {},
   "source": [
    "los diccionarios se usan cuando deseamos indexar elementos a partir de claves únicas y buscar elementos en utilizando estas claves.Además se pueden usar para crear panda's data frames a partir de un diccionario"
   ]
  },
  {
   "cell_type": "code",
   "execution_count": 5,
   "metadata": {},
   "outputs": [
    {
     "name": "stdout",
     "output_type": "stream",
     "text": [
      "{'afghanistan': 30.55, 'albania': 2.81, 'algeria': 39.21}\n",
      "2.81\n"
     ]
    }
   ],
   "source": [
    "#ejemplo 1\n",
    "# por ejemplo si queremos crear un diccionario de paises y sus poblaciones\n",
    "mundo = {\"afghanistan\":30.55, \"albania\":2.77, \"algeria\":39.21, \"albania\":2.81} #declaramos un diccionario con las poblaciones de paises cuyo nombre empieza con a y sus poblaciones en millones de personas\n",
    "print(mundo) # imprimimos el diccionario\n",
    "print(mundo[\"albania\"]) #imprimimos la población de albania"
   ]
  },
  {
   "cell_type": "code",
   "execution_count": 6,
   "metadata": {},
   "outputs": [
    {
     "name": "stdout",
     "output_type": "stream",
     "text": [
      "{'pais': ['Brasil', 'Rusia', 'India', 'China', 'Sudafrica'], 'capital': ['Brasilia', 'Moscú', 'Nueva Delhi', 'Beijing', 'Pretoria'], 'area': [8.516, 17.1, 3.286, 9.597, 1.221]}\n",
      "        pais      capital    area\n",
      "0     Brasil     Brasilia   8.516\n",
      "1      Rusia        Moscú  17.100\n",
      "2      India  Nueva Delhi   3.286\n",
      "3      China      Beijing   9.597\n",
      "4  Sudafrica     Pretoria   1.221\n"
     ]
    }
   ],
   "source": [
    "#ejemplo 2\n",
    "# otro ejemplo del uso de un diccionario es para crear un panda's dataframe a partir del diccionario \n",
    "dict= { \"pais\":[\"Brasil\", \"Rusia\", \"India\", \"China\", \"Sudafrica\"],\"capital\":[\"Brasilia\", \"Moscú\", \"Nueva Delhi\", \"Beijing\", \"Pretoria\"],\"area\":[8.516, 17.10, 3.286, 9.597, 1.221]}\n",
    "print(dict)\n",
    "import pandas as pd\n",
    "brics = pd.DataFrame(dict)\n",
    "print(brics)\n",
    "\n"
   ]
  },
  {
   "cell_type": "code",
   "execution_count": null,
   "metadata": {},
   "outputs": [],
   "source": []
  }
 ],
 "metadata": {
  "kernelspec": {
   "display_name": "Python 3",
   "language": "python",
   "name": "python3"
  },
  "language_info": {
   "codemirror_mode": {
    "name": "ipython",
    "version": 3
   },
   "file_extension": ".py",
   "mimetype": "text/x-python",
   "name": "python",
   "nbconvert_exporter": "python",
   "pygments_lexer": "ipython3",
   "version": "3.7.6"
  }
 },
 "nbformat": 4,
 "nbformat_minor": 4
}
