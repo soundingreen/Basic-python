{
 "cells": [
  {
   "cell_type": "markdown",
   "metadata": {},
   "source": [
    "# Ejercicio7_Tarea1 RESUELTO Javier Francisco Castila Jiménez LNC UNAM\n",
    "**Valor: 2 puntos**\n",
    "En la siguiente celda se define un arreglo de numpy. En ese arreglo se encuentran los tiempos en los que ocurrió un potencial de acción durante una tarea cognitiva. Calcule el intervalo interespiga de ese registro particular. El intervalo interespiga ISI se calcula restando los tiempos consecutivos de un potencial de acción. Por ejemplo, suponga que los tiempos que ocurrieron en un potencial de acción son: \n",
    "\n",
    "A=\\[1.2, 1.8, 1.9, 2.3, 2.9] #Hay 5 eventos registrados\n",
    "\n",
    "entonces el ISI correspondiente a A es:\n",
    "\n",
    "ISI=\\[  1.8-1.2,  1.9-1.8,  2.3-1.9,  2.9-2.3]  #Nota que tiene un elemento menos (4 elementos en este caso)\n",
    "\n",
    "Realice un procedimiento similar.\n",
    "\n",
    "\n",
    "Adicionalmente, responda las siguientes preguntas:\n",
    "\n",
    "1. ¿Para qué sirve el comando eventplot? (Utilice la ayuda para responder esta pregunta indicando los parámetros de la función)\n",
    "\n",
    "## sirve para crear un raster plot a partir de un np.array de una o dos dimensiones que tipicamente, al menos en neurociencias, almacena los tiempos en los que ocurrió un potencial de acción durante una tarea cognitiva.\n",
    "\n",
    "## los parametro de la función son:\n",
    "  ### positions(que es el único parametro obligatorio) y tiene que ser un numpy array de 1D o 2D\n",
    "  ### orientation (parametro opcional) determina la orientacion de las lineas en el raster y debe ser \"horizontal\" o \"vertical\"\n",
    "  ### lineoffsets (parametro opcional)  escalar o secuencia de escalares, determinan la linea media al centro de las lineas en dirección ortogonal a la orientación. el valor default es 1\n",
    "  ### linelengths (parametro opcional) escalar o secuencia de escalares, determinan la altura total de las lineas. el valor default es 1\n",
    "  ### linewidths (parametro opcional) escalar o secuencia de escalares.\n",
    "  ### colors (parametro opcional) color o secuencia de colores o None el default es None \n",
    "  ### linestyles(parametro opcional) str o tupla el default es solid\n",
    "  ### **data** keyword argument.(parametro opcional)\n",
    "  ### kwargs- key word arguments (parametro opcional)\n",
    "\n",
    "\n",
    "### eventplot(positions, orientation='horizontal', lineoffsets=1, linelengths=1, linewidths=None, colors=None, linestyles='solid', *, data=None, **kwargs)\n",
    "\n",
    "  ### hacer un raster plot en general es útil en cualquier situación en la que desee mostrar el tiempo o posición de múltiples   ### conjuntos de eventos discretos\n",
    "\n",
    "2. Utilizando el comando plt.hist, realice un histograma de ISI. ¿qué puede decir al respecto?\n",
    "\n",
    "## puede decir que la mayoría de los intervalos interespiga se encuentra distribuidos entre los 0 y los 0.2 segundos es decir ## la mayoría de los intervalos interespiga tuvieron una duración de entre 0s y 0.2s\n",
    "## y que practicamente no hay intevalos interespiga con duraciones de entre los 0.4s y aprox. los 0.7s \n",
    "\n",
    "\n"
   ]
  },
  {
   "cell_type": "code",
   "execution_count": 30,
   "metadata": {},
   "outputs": [
    {
     "data": {
      "text/plain": [
       "[<matplotlib.collections.EventCollection at 0x2210723ee48>]"
      ]
     },
     "execution_count": 30,
     "metadata": {},
     "output_type": "execute_result"
    },
    {
     "data": {
      "image/png": "[encoded data removed]",
      "text/plain": [
       "<Figure size 432x288 with 1 Axes>"
      ]
     },
     "metadata": {
      "needs_background": "light"
     },
     "output_type": "display_data"
    }
   ],
   "source": [
    "import numpy as np\n",
    "import matplotlib.pyplot as plt\n",
    "eventos=np.array([0.031133,0.1561,0.5407,1.3757,2.1131,2.1725,2.3228,2.3309,2.4675,2.8082,3.0962,3.101,3.1222,3.1263,3.1481,3.1636,3.1883,3.1942,3.1987,3.2015,3.2148,3.4466,3.7464,3.8573,4.879,5.0619,6.6004,6.7042,7.8101,9.0727,9.1582\n",
    "   ])\n",
    "plt.eventplot(eventos)\n",
    "\n"
   ]
  },
  {
   "cell_type": "code",
   "execution_count": 34,
   "metadata": {},
   "outputs": [
    {
     "name": "stdout",
     "output_type": "stream",
     "text": [
      "[0.031133 0.1561   0.5407   1.3757   2.1131   2.1725   2.3228   2.3309\n",
      " 2.4675   2.8082   3.0962   3.101    3.1222   3.1263   3.1481   3.1636\n",
      " 3.1883   3.1942   3.1987   3.2015   3.2148   3.4466   3.7464   3.8573\n",
      " 4.879    5.0619   6.6004   6.7042   7.8101   9.0727   9.1582  ]\n",
      "31\n"
     ]
    }
   ],
   "source": [
    "# EJERCICIO 7\n",
    "print(eventos)\n",
    "print(len(eventos)) #a partir de saber la cantidad de elementos que tiene eventos puedo saber de que tamaño son las slicings que necesito\n",
    "# quiero restarle a la slice que contiene desde  el dato indice 1 hasta el dato indice 31, es decir eventos[1:31]\n",
    "# la slice que tiene los elementos desde el indice 0 hasta el indice 30, es decir eventos[0:30]"
   ]
  },
  {
   "cell_type": "code",
   "execution_count": 36,
   "metadata": {},
   "outputs": [
    {
     "name": "stdout",
     "output_type": "stream",
     "text": [
      "a [0.1561 0.5407 1.3757 2.1131 2.1725 2.3228 2.3309 2.4675 2.8082 3.0962\n",
      " 3.101  3.1222 3.1263 3.1481 3.1636 3.1883 3.1942 3.1987 3.2015 3.2148\n",
      " 3.4466 3.7464 3.8573 4.879  5.0619 6.6004 6.7042 7.8101 9.0727 9.1582]\n",
      "b [0.031133 0.1561   0.5407   1.3757   2.1131   2.1725   2.3228   2.3309\n",
      " 2.4675   2.8082   3.0962   3.101    3.1222   3.1263   3.1481   3.1636\n",
      " 3.1883   3.1942   3.1987   3.2015   3.2148   3.4466   3.7464   3.8573\n",
      " 4.879    5.0619   6.6004   6.7042   7.8101   9.0727  ]\n"
     ]
    }
   ],
   "source": [
    "# EJERCICIO 7\n",
    "print(\"a\",eventos[1:31])# impimí las slices que quiero utilizar solo para asegurarme que las elegí correctamente \n",
    "#solo les puse a y b para diferenciarlas facilmente\n",
    "print(\"b\",eventos[0:30])"
   ]
  },
  {
   "cell_type": "code",
   "execution_count": 43,
   "metadata": {},
   "outputs": [
    {
     "name": "stdout",
     "output_type": "stream",
     "text": [
      "<class 'numpy.ndarray'>\n",
      "[0.124967 0.3846   0.835    0.7374   0.0594   0.1503   0.0081   0.1366\n",
      " 0.3407   0.288    0.0048   0.0212   0.0041   0.0218   0.0155   0.0247\n",
      " 0.0059   0.0045   0.0028   0.0133   0.2318   0.2998   0.1109   1.0217\n",
      " 0.1829   1.5385   0.1038   1.1059   1.2626   0.0855  ]\n",
      "30\n"
     ]
    }
   ],
   "source": [
    "# EJERCICIO 7\n",
    "ISI=(eventos[1:31])-(eventos[0:30]) # ISI es la variable que guarda el array que resulta de restar los slices correspondientes \n",
    "#ISI es un array que contiene los El intervalo interespiga ISI se calcula restando los tiempos consecutivos de un potencial de acción\n",
    "#los np arrays permiten hacer restas elemento por elemento de un array menos otro array\n",
    "print(type(ISI))# verificamos por gusto que ISI es un numpy array\n",
    "print(ISI) # Imprimos el array con los intervalos interespiga calculados\n",
    "print(len(ISI))#Notemos que ISI tiene un elemento menos que eventos"
   ]
  },
  {
   "cell_type": "code",
   "execution_count": 38,
   "metadata": {
    "scrolled": true
   },
   "outputs": [
    {
     "data": {
      "text/plain": [
       "(array([18.,  4.,  2.,  0.,  1.,  1.,  1.,  1.,  1.,  1.]),\n",
       " array([0.0028 , 0.15637, 0.30994, 0.46351, 0.61708, 0.77065, 0.92422,\n",
       "        1.07779, 1.23136, 1.38493, 1.5385 ]),\n",
       " <a list of 10 Patch objects>)"
      ]
     },
     "execution_count": 38,
     "metadata": {},
     "output_type": "execute_result"
    },
    {
     "data": {
      "image/png": "[encoded data removed]",
      "text/plain": [
       "<Figure size 432x288 with 1 Axes>"
      ]
     },
     "metadata": {
      "needs_background": "light"
     },
     "output_type": "display_data"
    }
   ],
   "source": [
    "#2. Utilizando el comando plt.hist, realice un histograma de ISI. ¿qué puede decir al respecto?\n",
    "plt.hist(ISI) # el histograma nos muestra la distribución de los intervalos interespiga"
   ]
  },
  {
   "cell_type": "code",
   "execution_count": 44,
   "metadata": {},
   "outputs": [
    {
     "data": {
      "text/plain": [
       "(array([11.,  1.,  3.,  3.,  1.,  1.,  0.,  2.,  1.,  1.,  0.,  0.,  0.,\n",
       "         0.,  0.,  0.,  0.,  0.,  0.,  1.,  0.,  1.,  0.,  0.,  0.,  0.,\n",
       "         1.,  0.,  1.,  0.,  0.,  0.,  1.,  0.,  0.,  0.,  0.,  0.,  0.,\n",
       "         1.]),\n",
       " array([0.0028   , 0.0411925, 0.079585 , 0.1179775, 0.15637  , 0.1947625,\n",
       "        0.233155 , 0.2715475, 0.30994  , 0.3483325, 0.386725 , 0.4251175,\n",
       "        0.46351  , 0.5019025, 0.540295 , 0.5786875, 0.61708  , 0.6554725,\n",
       "        0.693865 , 0.7322575, 0.77065  , 0.8090425, 0.847435 , 0.8858275,\n",
       "        0.92422  , 0.9626125, 1.001005 , 1.0393975, 1.07779  , 1.1161825,\n",
       "        1.154575 , 1.1929675, 1.23136  , 1.2697525, 1.308145 , 1.3465375,\n",
       "        1.38493  , 1.4233225, 1.461715 , 1.5001075, 1.5385   ]),\n",
       " <a list of 40 Patch objects>)"
      ]
     },
     "execution_count": 44,
     "metadata": {},
     "output_type": "execute_result"
    },
    {
     "data": {
      "image/png": "[encoded data removed]",
      "text/plain": [
       "<Figure size 432x288 with 1 Axes>"
      ]
     },
     "metadata": {
      "needs_background": "light"
     },
     "output_type": "display_data"
    }
   ],
   "source": [
    "plt.hist(ISI, bins=40)"
   ]
  },
  {
   "cell_type": "code",
   "execution_count": 20,
   "metadata": {},
   "outputs": [
    {
     "name": "stdout",
     "output_type": "stream",
     "text": [
      "Help on function eventplot in module matplotlib.pyplot:\n",
      "\n",
      "eventplot(positions, orientation='horizontal', lineoffsets=1, linelengths=1, linewidths=None, colors=None, linestyles='solid', *, data=None, **kwargs)\n",
      "    Plot identical parallel lines at the given positions.\n",
      "    \n",
      "    *positions* should be a 1D or 2D array-like object, with each row\n",
      "    corresponding to a row or column of lines.\n",
      "    \n",
      "    This type of plot is commonly used in neuroscience for representing\n",
      "    neural events, where it is usually called a spike raster, dot raster,\n",
      "    or raster plot.\n",
      "    \n",
      "    However, it is useful in any situation where you wish to show the\n",
      "    timing or position of multiple sets of discrete events, such as the\n",
      "    arrival times of people to a business on each day of the month or the\n",
      "    date of hurricanes each year of the last century.\n",
      "    \n",
      "    Parameters\n",
      "    ----------\n",
      "    positions : 1D or 2D array-like object\n",
      "        Each value is an event. If *positions* is a 2D array-like, each\n",
      "        row corresponds to a row or a column of lines (depending on the\n",
      "        *orientation* parameter).\n",
      "    \n",
      "    orientation : {'horizontal', 'vertical'}, optional\n",
      "        Controls the direction of the event collections:\n",
      "    \n",
      "            - 'horizontal' : the lines are arranged horizontally in rows,\n",
      "              and are vertical.\n",
      "            - 'vertical' : the lines are arranged vertically in columns,\n",
      "              and are horizontal.\n",
      "    \n",
      "    lineoffsets : scalar or sequence of scalars, optional, default: 1\n",
      "        The offset of the center of the lines from the origin, in the\n",
      "        direction orthogonal to *orientation*.\n",
      "    \n",
      "    linelengths : scalar or sequence of scalars, optional, default: 1\n",
      "        The total height of the lines (i.e. the lines stretches from\n",
      "        ``lineoffset - linelength/2`` to ``lineoffset + linelength/2``).\n",
      "    \n",
      "    linewidths : scalar, scalar sequence or None, optional, default: None\n",
      "        The line width(s) of the event lines, in points. If it is None,\n",
      "        defaults to its rcParams setting.\n",
      "    \n",
      "    colors : color, sequence of colors or None, optional, default: None\n",
      "        The color(s) of the event lines. If it is None, defaults to its\n",
      "        rcParams setting.\n",
      "    \n",
      "    linestyles : str or tuple or a sequence of such values, optional\n",
      "        Default is 'solid'. Valid strings are ['solid', 'dashed',\n",
      "        'dashdot', 'dotted', '-', '--', '-.', ':']. Dash tuples\n",
      "        should be of the form::\n",
      "    \n",
      "            (offset, onoffseq),\n",
      "    \n",
      "        where *onoffseq* is an even length tuple of on and off ink\n",
      "        in points.\n",
      "    \n",
      "    **kwargs : optional\n",
      "        Other keyword arguments are line collection properties.  See\n",
      "        :class:`~matplotlib.collections.LineCollection` for a list of\n",
      "        the valid properties.\n",
      "    \n",
      "    Returns\n",
      "    -------\n",
      "    \n",
      "    list : A list of :class:`~.collections.EventCollection` objects.\n",
      "        Contains the :class:`~.collections.EventCollection` that\n",
      "        were added.\n",
      "    \n",
      "    Notes\n",
      "    -----\n",
      "    \n",
      "    For *linelengths*, *linewidths*, *colors*, and *linestyles*, if only\n",
      "    a single value is given, that value is applied to all lines.  If an\n",
      "    array-like is given, it must have the same length as *positions*, and\n",
      "    each value will be applied to the corresponding row of the array.\n",
      "    \n",
      "    Examples\n",
      "    --------\n",
      "    \n",
      "    .. plot:: gallery/lines_bars_and_markers/eventplot_demo.py\n",
      "    \n",
      "    .. note::\n",
      "        In addition to the above described arguments, this function can take a\n",
      "        **data** keyword argument. If such a **data** argument is given, the\n",
      "        following arguments are replaced by **data[<arg>]**:\n",
      "    \n",
      "        * All arguments with the following names: 'colors', 'linelengths', 'lineoffsets', 'linestyles', 'linewidths', 'positions'.\n",
      "    \n",
      "        Objects passed as **data** must support item access (``data[<arg>]``) and\n",
      "        membership test (``<arg> in data``).\n",
      "\n"
     ]
    }
   ],
   "source": [
    "help(plt.eventplot)"
   ]
  },
  {
   "cell_type": "code",
   "execution_count": null,
   "metadata": {},
   "outputs": [],
   "source": []
  }
 ],
 "metadata": {
  "kernelspec": {
   "display_name": "Python 3",
   "language": "python",
   "name": "python3"
  },
  "language_info": {
   "codemirror_mode": {
    "name": "ipython",
    "version": 3
   },
   "file_extension": ".py",
   "mimetype": "text/x-python",
   "name": "python",
   "nbconvert_exporter": "python",
   "pygments_lexer": "ipython3",
   "version": "3.7.6"
  }
 },
 "nbformat": 4,
 "nbformat_minor": 4
}
